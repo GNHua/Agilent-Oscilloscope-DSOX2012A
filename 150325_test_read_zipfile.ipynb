{
 "cells": [
  {
   "cell_type": "markdown",
   "metadata": {},
   "source": [
    "#Table of Contents\n",
    "* [Purpose](#Purpose)\n",
    "* [Try out zipfile standard library](#Try-out-zipfile-standard-library)\n",
    "\t* [Open zip file & get list of names of files contained in the zip file](#Open-zip-file-&-get-list-of-names-of-files-contained-in-the-zip-file)\n",
    "\t* [Verify that can read data from each individual file in the zip file](#Verify-that-can-read-data-from-each-individual-file-in-the-zip-file)\n"
   ]
  },
  {
   "cell_type": "code",
   "execution_count": 1,
   "metadata": {
    "collapsed": false
   },
   "outputs": [
    {
     "data": {
      "application/javascript": [
       "IPython.load_extensions('calico-document-tools');"
      ],
      "text/plain": [
       "<IPython.core.display.Javascript object>"
      ]
     },
     "metadata": {},
     "output_type": "display_data"
    }
   ],
   "source": [
    "%%javascript\n",
    "IPython.load_extensions('calico-document-tools');"
   ]
  },
  {
   "cell_type": "code",
   "execution_count": 1,
   "metadata": {
    "collapsed": true
   },
   "outputs": [],
   "source": [
    "import zipfile as zf\n",
    "from __future__ import division\n",
    "from __future__ import print_function"
   ]
  },
  {
   "cell_type": "markdown",
   "metadata": {},
   "source": [
    "# Purpose"
   ]
  },
  {
   "cell_type": "markdown",
   "metadata": {},
   "source": [
    "Avoid dealing directly with 100's of MBs of .csv files of data by using the [zipfile standard library](https://docs.python.org/3/library/zipfile.html) to read data directly from the data files which are all compressed into a single .zip file."
   ]
  },
  {
   "cell_type": "markdown",
   "metadata": {},
   "source": [
    "# Try out zipfile standard library"
   ]
  },
  {
   "cell_type": "markdown",
   "metadata": {},
   "source": [
    "## Open zip file & get list of names of files contained in the zip file"
   ]
  },
  {
   "cell_type": "code",
   "execution_count": 2,
   "metadata": {
    "collapsed": true
   },
   "outputs": [],
   "source": [
    "myzip = zf.ZipFile('20150316_data.zip','r')"
   ]
  },
  {
   "cell_type": "code",
   "execution_count": 3,
   "metadata": {
    "collapsed": false
   },
   "outputs": [
    {
     "data": {
      "text/plain": [
       "['sample1_100.0us.csv',\n",
       " 'sample1_200.0us.csv',\n",
       " 'sample1_300.0us.csv',\n",
       " 'sample1_400.0us.csv',\n",
       " 'sample1_500.0us.csv',\n",
       " 'sample1_600.0us.csv',\n",
       " 'sample1_700.0us.csv',\n",
       " 'sample1_800.0us.csv',\n",
       " 'sample1_900.0us.csv',\n",
       " 'sample1_1000.0us.csv',\n",
       " 'sample1_1500.0us.csv',\n",
       " 'sample1_2000.0us.csv',\n",
       " 'sample1_2500.0us.csv',\n",
       " 'sample1_3000.0us.csv',\n",
       " 'sample1_4000.0us.csv',\n",
       " 'sample1_5000.0us.csv',\n",
       " 'sample1_8000.0us.csv',\n",
       " 'sample1_9000.0us.csv']"
      ]
     },
     "execution_count": 3,
     "metadata": {},
     "output_type": "execute_result"
    }
   ],
   "source": [
    "myzip.namelist()"
   ]
  },
  {
   "cell_type": "code",
   "execution_count": 4,
   "metadata": {
    "collapsed": false
   },
   "outputs": [
    {
     "name": "stdout",
     "output_type": "stream",
     "text": [
      "sample1_100.0us.csv\n"
     ]
    }
   ],
   "source": [
    "filenames = myzip.namelist()\n",
    "print(filenames[0])"
   ]
  },
  {
   "cell_type": "markdown",
   "metadata": {},
   "source": [
    "## Verify that can read data from each individual file in the zip file"
   ]
  },
  {
   "cell_type": "code",
   "execution_count": 5,
   "metadata": {
    "collapsed": false
   },
   "outputs": [
    {
     "name": "stdout",
     "output_type": "stream",
     "text": [
      "0 sample1_100.0us.csv #time_s, Vpp, PMT\r\n",
      "1 sample1_100.0us.csv -1.000066E-03, 0.000000, 0.000000\r\n",
      "2 sample1_100.0us.csv -1.000056E-03, 0.000000, 0.020101\r\n"
     ]
    }
   ],
   "source": [
    "nlines = 3\n",
    "with myzip.open(filenames[0]) as myfile:\n",
    "    counter = 0\n",
    "    for i in range(0,nlines):\n",
    "        print(counter, filenames[0], myfile.readline(), end=\"\")\n",
    "        counter += 1"
   ]
  },
  {
   "cell_type": "code",
   "execution_count": 7,
   "metadata": {
    "collapsed": false
   },
   "outputs": [
    {
     "name": "stdout",
     "output_type": "stream",
     "text": [
      "0 sample1_100.0us.csv :  #time_s, Vpp, PMT\r\n",
      "1 sample1_100.0us.csv :  -1.000066E-03, 0.000000, 0.000000\r\n",
      "2 sample1_100.0us.csv :  -1.000056E-03, 0.000000, 0.020101\r\n",
      "-----------\n",
      "0 sample1_200.0us.csv :  #time_s, Vpp, PMT\r\n",
      "1 sample1_200.0us.csv :  -1.000066E-03, 0.000000, -0.020101\r\n",
      "2 sample1_200.0us.csv :  -1.000056E-03, 0.000000, -0.040201\r\n",
      "-----------\n",
      "0 sample1_300.0us.csv :  #time_s, Vpp, PMT\r\n",
      "1 sample1_300.0us.csv :  -1.000066E-03, -0.080402, -0.040201\r\n",
      "2 sample1_300.0us.csv :  -1.000056E-03, 0.000000, 0.000000\r\n",
      "-----------\n",
      "0 sample1_400.0us.csv :  #time_s, Vpp, PMT\r\n",
      "1 sample1_400.0us.csv :  -1.000066E-03, 0.000000, 0.000000\r\n",
      "2 sample1_400.0us.csv :  -1.000056E-03, 0.000000, 0.000000\r\n",
      "-----------\n",
      "0 sample1_500.0us.csv :  #time_s, Vpp, PMT\r\n",
      "1 sample1_500.0us.csv :  -1.000066E-03, 0.000000, -0.020101\r\n",
      "2 sample1_500.0us.csv :  -1.000056E-03, 0.000000, -0.020101\r\n",
      "-----------\n",
      "0 sample1_600.0us.csv :  #time_s, Vpp, PMT\r\n",
      "1 sample1_600.0us.csv :  -1.000066E-03, 0.000000, 0.000000\r\n",
      "2 sample1_600.0us.csv :  -1.000056E-03, 0.000000, -0.040201\r\n",
      "-----------\n",
      "0 sample1_700.0us.csv :  #time_s, Vpp, PMT\r\n",
      "1 sample1_700.0us.csv :  -1.000066E-03, 0.000000, -0.040201\r\n",
      "2 sample1_700.0us.csv :  -1.000056E-03, 0.000000, -0.040201\r\n",
      "-----------\n",
      "0 sample1_800.0us.csv :  #time_s, Vpp, PMT\r\n",
      "1 sample1_800.0us.csv :  -1.000066E-03, -0.080402, 0.000000\r\n",
      "2 sample1_800.0us.csv :  -1.000056E-03, 0.000000, -0.020101\r\n",
      "-----------\n",
      "0 sample1_900.0us.csv :  #time_s, Vpp, PMT\r\n",
      "1 sample1_900.0us.csv :  -1.000066E-03, 0.000000, -0.040201\r\n",
      "2 sample1_900.0us.csv :  -1.000056E-03, 0.000000, -0.020101\r\n",
      "-----------\n",
      "0 sample1_1000.0us.csv :  #time_s, Vpp, PMT\r\n",
      "1 sample1_1000.0us.csv :  -1.000066E-03, 0.000000, -0.020101\r\n",
      "2 sample1_1000.0us.csv :  -1.000056E-03, 0.000000, -0.020101\r\n",
      "-----------\n",
      "0 sample1_1500.0us.csv :  #time_s, Vpp, PMT\r\n",
      "1 sample1_1500.0us.csv :  -1.000066E-03, 0.000000, 0.000000\r\n",
      "2 sample1_1500.0us.csv :  -1.000056E-03, 0.000000, -0.020101\r\n",
      "-----------\n",
      "0 sample1_2000.0us.csv :  #time_s, Vpp, PMT\r\n",
      "1 sample1_2000.0us.csv :  -1.000066E-03, 0.000000, -0.040201\r\n",
      "2 sample1_2000.0us.csv :  -1.000056E-03, -0.080402, 0.000000\r\n",
      "-----------\n",
      "0 sample1_2500.0us.csv :  #time_s, Vpp, PMT\r\n",
      "1 sample1_2500.0us.csv :  -1.000066E-03, 0.000000, -0.040201\r\n",
      "2 sample1_2500.0us.csv :  -1.000056E-03, 0.000000, 0.000000\r\n",
      "-----------\n",
      "0 sample1_3000.0us.csv :  #time_s, Vpp, PMT\r\n",
      "1 sample1_3000.0us.csv :  -1.000066E-03, 0.000000, -0.040201\r\n",
      "2 sample1_3000.0us.csv :  -1.000056E-03, 0.000000, -0.020101\r\n",
      "-----------\n",
      "0 sample1_4000.0us.csv :  #time_s, Vpp, PMT\r\n",
      "1 sample1_4000.0us.csv :  -1.000066E-03, 0.000000, -0.040201\r\n",
      "2 sample1_4000.0us.csv :  -1.000056E-03, 0.000000, -0.040201\r\n",
      "-----------\n",
      "0 sample1_5000.0us.csv :  #time_s, Vpp, PMT\r\n",
      "1 sample1_5000.0us.csv :  -1.000066E-03, 0.000000, -0.040201\r\n",
      "2 sample1_5000.0us.csv :  -1.000056E-03, 0.000000, -0.040201\r\n",
      "-----------\n",
      "0 sample1_8000.0us.csv :  #time_s, Vpp, PMT\r\n",
      "1 sample1_8000.0us.csv :  -1.000066E-03, 0.080402, -0.040201\r\n",
      "2 sample1_8000.0us.csv :  -1.000056E-03, 0.000000, -0.020101\r\n",
      "-----------\n",
      "0 sample1_9000.0us.csv :  #time_s, Vpp, PMT\r\n",
      "1 sample1_9000.0us.csv :  -1.000066E-03, 0.000000, -0.020101\r\n",
      "2 sample1_9000.0us.csv :  -1.000056E-03, -0.080402, -0.060302\r\n",
      "-----------\n"
     ]
    }
   ],
   "source": [
    "nlines = 3\n",
    "for fname in filenames:\n",
    "    with myzip.open(fname) as f:\n",
    "        counter = 0\n",
    "        for i in range(0,nlines):\n",
    "            print(counter, fname, ': ', f.readline(), end=\"\")\n",
    "            counter += 1\n",
    "        print('-----------')"
   ]
  },
  {
   "cell_type": "code",
   "execution_count": null,
   "metadata": {
    "collapsed": true
   },
   "outputs": [],
   "source": []
  }
 ],
 "metadata": {
  "kernelspec": {
   "display_name": "Python 2",
   "language": "python",
   "name": "python2"
  },
  "language_info": {
   "codemirror_mode": {
    "name": "ipython",
    "version": 2
   },
   "file_extension": ".py",
   "mimetype": "text/x-python",
   "name": "python",
   "nbconvert_exporter": "python",
   "pygments_lexer": "ipython2",
   "version": "2.7.9"
  }
 },
 "nbformat": 4,
 "nbformat_minor": 0
}
